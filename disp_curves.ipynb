{
 "cells": [
  {
   "cell_type": "code",
   "execution_count": 14,
   "metadata": {},
   "outputs": [],
   "source": [
    "import numpy as np\n",
    "import math\n",
    "from array import *\n",
    "from scipy.io import loadmat\n",
    "from numpy.polynomial import Polynomial\n",
    "import matplotlib.pyplot as plt\n",
    "\n",
    "\n",
    "def plotting(freq, c_gr, c_gr_mod):\n",
    "    freq = np.delete(freq, len(freq) - 1)\n",
    "    c_gr = c_gr[0:1023]\n",
    "    plt.plot(freq, c_gr, color='g', label='Эксперимент')\n",
    "    plt.plot(freq, c_gr_mod, color='r', label='Теория')\n",
    "    plt.xlabel(\"Частота, Гц\")\n",
    "    plt.ylabel(\"Групповая скорость, м/с\")\n",
    "    plt.title(\"Экспериментальная и теоретическая зависимости групповой скорости от частоты\")\n",
    "    plt.legend()\n",
    "    plt.grid()\n",
    "    plt.show()\n",
    "    return 0\n",
    "\n",
    "def c_phase_group_new(freq, h, ro, E, nu):\n",
    "    output = []\n",
    "    for i in range(len(freq)):\n",
    "        values = []\n",
    "        w = 2 * np.pi * freq[i]\n",
    "        a5 = 1\n",
    "        a4 = h * w * ro / 1000 - 9.8 / w\n",
    "        a3 = 0\n",
    "        a2 = 0 \n",
    "        a1 = -E * (w ** 3) * (h ** 3) / (12000 * (1 - nu ** 2))\n",
    "\n",
    "        p = [a5, a4, a3, a2, a1]\n",
    "        roots = np.roots(p)\n",
    "        real = np.isreal(roots)\n",
    "        for i in range(len(roots)):\n",
    "            if real[i] == True and roots[i] > 0:\n",
    "                values.append(i)\n",
    "        roots = abs(roots[values])[0]\n",
    "        output.append(roots)\n",
    "\n",
    "    roots_gr = []\n",
    "\n",
    "    for i in range(len(freq) - 1):\n",
    "        #c_group = ((1/output[i]) + ((2*np.pi*freq[i]) / ((output[i])**2)) * (output[i+1] - output[i])/(freq[i+1] - freq[i]))**(-1)        \n",
    "        c_group = output[i] / (1 + (2 * np.pi * freq[i] / output[i]) * (output[i + 1] - output[i]) / (2 * np.pi * freq[2] - 2 * np.pi * freq[1]))\n",
    "        roots_gr.append(c_group)\n",
    "    return roots_gr\n"
   ]
  }
 ],
 "metadata": {
  "kernelspec": {
   "display_name": "Python 3",
   "language": "python",
   "name": "python3"
  },
  "language_info": {
   "codemirror_mode": {
    "name": "ipython",
    "version": 3
   },
   "file_extension": ".py",
   "mimetype": "text/x-python",
   "name": "python",
   "nbconvert_exporter": "python",
   "pygments_lexer": "ipython3",
   "version": "3.11.8"
  }
 },
 "nbformat": 4,
 "nbformat_minor": 2
}
